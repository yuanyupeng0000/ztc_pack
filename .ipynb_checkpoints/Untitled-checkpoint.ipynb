{
 "cells": [
  {
   "cell_type": "code",
   "execution_count": 2,
   "metadata": {},
   "outputs": [
    {
     "ename": "NameError",
     "evalue": "name 'SEED_CHG_DIR' is not defined",
     "output_type": "error",
     "traceback": [
      "\u001b[0;31m---------------------------------------------------------------------------\u001b[0m",
      "\u001b[0;31mNameError\u001b[0m                                 Traceback (most recent call last)",
      "\u001b[0;32m<ipython-input-2-96c1746b755e>\u001b[0m in \u001b[0;36m<module>\u001b[0;34m()\u001b[0m\n\u001b[1;32m     11\u001b[0m \u001b[0mseed_xml_names\u001b[0m \u001b[0;34m=\u001b[0m \u001b[0mos\u001b[0m\u001b[0;34m.\u001b[0m\u001b[0mlistdir\u001b[0m\u001b[0;34m(\u001b[0m\u001b[0mSEED_XML_DIR\u001b[0m\u001b[0;34m)\u001b[0m\u001b[0;34m\u001b[0m\u001b[0m\n\u001b[1;32m     12\u001b[0m \u001b[0mseed_img_names\u001b[0m \u001b[0;34m=\u001b[0m \u001b[0mos\u001b[0m\u001b[0;34m.\u001b[0m\u001b[0mlistdir\u001b[0m\u001b[0;34m(\u001b[0m\u001b[0mSEED_IMG_DIR\u001b[0m\u001b[0;34m)\u001b[0m\u001b[0;34m\u001b[0m\u001b[0m\n\u001b[0;32m---> 13\u001b[0;31m \u001b[0mseed_chg_names\u001b[0m \u001b[0;34m=\u001b[0m \u001b[0mos\u001b[0m\u001b[0;34m.\u001b[0m\u001b[0mlistdir\u001b[0m\u001b[0;34m(\u001b[0m\u001b[0mSEED_CHG_DIR\u001b[0m\u001b[0;34m)\u001b[0m\u001b[0;34m\u001b[0m\u001b[0m\n\u001b[0m\u001b[1;32m     14\u001b[0m \u001b[0mi\u001b[0m \u001b[0;34m=\u001b[0m \u001b[0;36m0\u001b[0m\u001b[0;34m\u001b[0m\u001b[0m\n\u001b[1;32m     15\u001b[0m \u001b[0;32mfor\u001b[0m \u001b[0mxml\u001b[0m \u001b[0;32min\u001b[0m \u001b[0mseed_xml_names\u001b[0m\u001b[0;34m:\u001b[0m\u001b[0;34m\u001b[0m\u001b[0m\n",
      "\u001b[0;31mNameError\u001b[0m: name 'SEED_CHG_DIR' is not defined"
     ]
    }
   ],
   "source": [
    "import os\n",
    "import time\n",
    "import xml.dom.minidom as xmldom\n",
    "\n",
    "SEED_XML_DIR = '/home/yyp/data/VOCdevkit/VOC2007/Annotations/'\n",
    "SEED_IMG_DIR = '/home/yyp/data/VOCdevkit/VOC2007/JPEGImages/'\n",
    "GENE_XML_DIR = '/data/wxjs/Changed_Annotations/One_Name_Muti_Atrributs/'\n",
    "\n",
    "start_time = time.time()\n",
    "\n",
    "seed_xml_names = os.listdir(SEED_XML_DIR)\n",
    "seed_img_names = os.listdir(SEED_IMG_DIR)\n",
    "\n",
    "i = 0\n",
    "for xml in seed_xml_names:\n",
    "    print(xml)\n",
    "    dom = xmldom.parse(SEED_XML_DIR + xml)\n",
    "    root = dom.documentElement #\n",
    "    obj_elements = root.getElementsByTagName('object')\n",
    "    if(len(obj_elements) > 0):\n",
    "        for obj_element in obj_elements:\n",
    "            name = obj_element.getElementsByTagName('name')\n",
    "            if(len(name) > 0):\n",
    "                name_data = name.item(0).firstChild.data\n",
    "                print('name_data: ' + name_data)\n",
    "            cover = obj_element.getElementsByTagName('cover')\n",
    "            if(len(cover) > 0):\n",
    "                cover_data = cover.item(0).firstChild.data\n",
    "                print('cover_data: ' + cover_data)\n",
    "            else:\n",
    "                print('no cover attribute')\n",
    "            spray = obj_element.getElementsByTagName('spray')\n",
    "            if(len(spray) > 0):\n",
    "                spray_data = spray.item(0).firstChild.data\n",
    "                print('spray_data: ' + spray_data)\n",
    "            else:\n",
    "                print('no spary attribute')\n",
    "            '''name.item(0).firstChild.data = name_data[:7] + \"_\" + str(cover_data) + str(spray_data)\n",
    "    try:\n",
    "        with open(SEED_CHG_DIR + xml,'w',encoding='UTF-8') as fh:           \n",
    "            # 4.writexml()第一个参数是目标文件对象，第二个参数是根节点的缩进格式，第三个参数是其他子节点的缩进格式，\n",
    "            # 第四个参数制定了换行格式，第五个参数制定了xml内容的编码。\n",
    "            dom.writexml(fh,indent='',addindent='\\t',newl='\\n',encoding='UTF-8')\n",
    "            print('写入xml OK!')\n",
    "            i = i+1\n",
    "    except Exception as err:\n",
    "        print('错误信息：{0}'.format(err))'''\n"
   ]
  },
  {
   "cell_type": "code",
   "execution_count": null,
   "metadata": {},
   "outputs": [],
   "source": []
  }
 ],
 "metadata": {
  "kernelspec": {
   "display_name": "Python 3",
   "language": "python",
   "name": "python3"
  },
  "language_info": {
   "codemirror_mode": {
    "name": "ipython",
    "version": 3
   },
   "file_extension": ".py",
   "mimetype": "text/x-python",
   "name": "python",
   "nbconvert_exporter": "python",
   "pygments_lexer": "ipython3",
   "version": "3.5.2"
  }
 },
 "nbformat": 4,
 "nbformat_minor": 2
}
